    "- <font color = \"blue\">First, rename this notebook to <i>\"Your-Name_Final_Exam_Part2\"</i>.</font>\n",
    "- This exam is based on the `mba_applications.csv` data file available on Canvas.\n",
    "- Each record in `mba_applications.csv` represents an application a prospective MBA student submitted to a business school in the U.S.\n",
    "- Each application (i.e., record) has information related to the student, the business school the application was submitted to, and the application status.\n",
    "- Download `mba_applications.csv` and save it in the same directory where this notebook is.\n",
    "- Use the `Pandas` skills you learned in class to answer all questions.\n",
    "- Attempt every question even if you are not able to produce an error-free output. Partial credit will be given based on the approach taken to address each question. \n",
    "- At the end of the exam, upload this notebook to the assignment link for the final exam on Canvas. **Note**. <font color = \"blue\"><u>Only **.ipynb** file must be submitted</u> and other file types will not be accepted.</font> \n",
    "- All the best!\n",
    "*********"
   ]
  },
  {
   "cell_type": "markdown",
   "id": "ce7b934b",
   "metadata": {},
   "source": [
    "**Q1.** Import the required modules first."
   ]
  },
  {
   "cell_type": "code",
   "execution_count": null,
   "id": "28feeec8",
   "metadata": {},
   "outputs": [],
   "source": [
    "import pandas as pd"
   ]
  },
  {
   "cell_type": "markdown",
   "id": "14a88d3a",
   "metadata": {},
   "source": [
    "**Q2.** Load `mba_applications.csv` data file into a data frame and name this data frame `df_mba`.<br>\n",
    "Display the first 7 records of `df_mba`."
   ]
  },
  {
   "cell_type": "code",
   "execution_count": null,
   "id": "4f4c96c0",
   "metadata": {},
   "outputs": [],
   "source": [
    "df_mba = pd.read_csv('mba_applications.csv')\n",
    "df_mba.head(7)\n"
   ]
  },
  {
   "cell_type": "markdown",
   "id": "5d1199e8",
   "metadata": {},
   "source": [
    "**Q3.** Obtain a summay of `df_mba` using `info()`."
   ]
  },
  {
   "cell_type": "code",
   "execution_count": null,
   "id": "75149eb0",
   "metadata": {},
   "outputs": [],
   "source": [
    "df_mba.info()"
   ]
  },
  {
   "cell_type": "markdown",
   "id": "1d792e09",
   "metadata": {},
   "source": [
    "**Q4.** Display the list of names of all business schools that received the applications. "
   ]
  },
  {
   "cell_type": "code",
   "execution_count": null,
   "id": "c1d6e4ce",
   "metadata": {},
   "outputs": [],
   "source": [
    "list(df_mba.school_name)"
   ]
  },
  {
   "cell_type": "markdown",
   "id": "bdb670d1",
   "metadata": {},
   "source": [
    "**Q5.** Print the following for the `student GMAT score` of the MBA applications (Use `student_GMAT`).\n",
    "- lowest GMAT score\n",
    "- highest GMAT score\n",
    "- average GMAT score\n",
    "- 90%th Percentile of the GMAT score"
   ]
  },
  {
   "cell_type": "code",
   "execution_count": null,
   "id": "8a75b0cd",
   "metadata": {},
   "outputs": [],
   "source": [
    "df_mba['student_GMAT'].describe()\n"
   ]
  },
  {
   "cell_type": "markdown",
   "id": "b85e90ba",
   "metadata": {},
   "source": [
    "**Q6.** Show the `student id, student GMAT score, school name, school rank, and the application status` of all applications in the `Accept` status, at schools ranked in the top 20. <br><i><font color = \"blue\">Hint. Use conditional record selection and multiple column selection techniques.</font></i>"
   ]
  },
  {
   "cell_type": "code",
   "execution_count": null,
   "id": "af2307dc",
   "metadata": {},
   "outputs": [],
   "source": [
    "df_mba=['student_id','student_GMAT','school_name','application_status','school_rank']\n",
    "if 'school_rank' < '21':\n",
    "    print('school_name')"
   ]
  },
  {
   "cell_type": "markdown",
   "id": "45293869",
   "metadata": {},
   "source": [
    "**Q7.** Create the new column `school_prestige` and populate its values as follows. <br><i><font color = \"blue\">Note that low rank means high prestige.</font></i>\n",
    "\n",
    "| school_rank  | school_prestige | \n",
    "|-----------|-------------|\n",
    "| school_rank <= 10|high|  \n",
    "| 10 < school_rank <= 20|medium|\n",
    "| school_rank>20|low| "
   ]
  },
  {
   "cell_type": "code",
   "execution_count": null,
   "id": "6cdee2a7",
   "metadata": {},
   "outputs": [],
   "source": [
    "df_mba['school_prestige'] = df_mba['school_rank]"
   ]
  },
  {
   "cell_type": "markdown",
   "id": "0b77a765",
   "metadata": {},
   "source": [
    "**Q8.** Show the number of applications received, by the level of school prestige. <br><i><font color=\"blue\">(i.e., Output should show 3 records for high/medium/low levels of school prestige and the number of applications each category received).</font></i>"
   ]
  },
  {
   "cell_type": "code",
   "execution_count": null,
   "id": "5e119dd4",
   "metadata": {},
   "outputs": [],
   "source": [
    "df_mba.count(school_prestige)"
   ]
  },
  {
   "cell_type": "markdown",
   "id": "70bc2f8e",
   "metadata": {},
   "source": [
    "**Q9.** For each school (use `school_name`), report the average GMAT score (`student_GMAT`) and the average GPA (`student_GPA`) of their applicants. <i><font color = \"blue\">Hint. use groupby()</font>.</i><br> "
   ]
  },
  {
   "cell_type": "code",
   "execution_count": null,
   "id": "31a90532",
   "metadata": {
    "scrolled": true
   },
   "outputs": [],
   "source": [
    "df_mba = df_mba.groupby('school name'['student_GMAT' & 'student_GPA'])\n",
    "df_mba"
   ]
  },
  {
   "cell_type": "markdown",
   "id": "37d93aa0",
   "metadata": {},
   "source": [
    "**Q10.** Obtain a crosstab to report the number of applications each school has in each application status (i.e., `Accept`/`Rejecet`/`Incomplete`), along with row and column totals. Name your cross tab, `ctab`.\n",
    " <br><i><font color = \"blue\">Hint. Use school name as the index and the application status as columns, along with the margins parameter.</font></i>"
   ]
  },
  {
   "cell_type": "code",
   "execution_count": null,
   "id": "491e21fc",
   "metadata": {},
   "outputs": [],
   "source": []
  },
  {
   "cell_type": "markdown",
   "id": "e890a551",
   "metadata": {},
   "source": [
    "**Q11.** Using `ctab` you created in `Q11` above, show the number of applications accepted by and the number of applications rejected by `Carnegie Mellon University` and `University of Pennsylvania (Wharton)`. <br><i><font color = \"blue\">Hint. Use loc. The output should show two records, one for each school, along with the  numbers of applications accepted and rejected by them.</font></i>"
   ]
  },
  {
   "cell_type": "code",
   "execution_count": null,
   "id": "ecf440c8",
   "metadata": {},
   "outputs": [],
   "source": []
  },
  {
   "cell_type": "markdown",
   "id": "361b24d4",
   "metadata": {},
   "source": [
    "**Q12.** Come up with any investigative question of your choice (such as above) and present a solution to it using Pandas. \n",
    "<br> Credit allocated for:\n",
    "- stating a clear investigative question\n",
    "- coming up with a correct solution\n",
    "- overall quality/level of difficulty of the question chosen and the solution provided"
   ]
  },
  {
   "cell_type": "code",
   "execution_count": null,
   "id": "560103ab",
   "metadata": {},
   "outputs": [],
   "source": [
    "one = input('How did you study for the GMAT?')\n",
    "print('used school textbooks')"
   ]
  }
 ],
 "metadata": {
  "kernelspec": {
   "display_name": "Python 3 (ipykernel)",
   "language": "python",
   "name": "python3"
  },
  "language_info": {
   "codemirror_mode": {
    "name": "ipython",
    "version": 3
   },
   "file_extension": ".py",
   "mimetype": "text/x-python",
   "name": "python",
   "nbconvert_exporter": "python",
   "pygments_lexer": "ipython3",
   "version": "3.10.9"
  }
 },
 "nbformat": 4,
 "nbformat_minor": 5
}
